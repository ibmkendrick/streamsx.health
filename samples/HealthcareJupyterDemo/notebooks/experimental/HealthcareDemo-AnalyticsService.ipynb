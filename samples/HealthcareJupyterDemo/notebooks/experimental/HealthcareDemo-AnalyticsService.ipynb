{
 "cells": [
  {
   "cell_type": "code",
   "execution_count": null,
   "metadata": {
    "collapsed": true,
    "nbpresent": {
     "id": "a95422e3-06da-4ad2-8e5d-8638a6ecaad5"
    }
   },
   "outputs": [],
   "source": [
    "# Healthcare Python Streaming Application Demo\n",
    "\n",
    "This Python notebooks shows how you can create an app that ingests and analyzes streaming data from a feed, and then visualizes the data in the notebook.  You submit this ap to be built in the Streaming Analyics service instance in Bluemix.\n",
    "\n",
    "The app is a Python Topology app written with the Streams Python API. The app subscribes to the topic containing the patient data, performs analysis on the waveforms and send all of the data, including the results of the analysis, to the Streams view server.\n",
    "\n",
    "Submitting the Python application from the notebook allows for connecting to the Streams view server in order to retrieve the data. Once the data has been retrieved, it can be analyzed, manipulated or visualized like any other data accessed from a notebook. In the case of this demo, waveform graphs and numerical widgets display the healthcare data of the patient.\n",
    "\n",
    "The following diagram outlines the architecture of the demo.\n",
    "\n",
    "![Demo Architecture](https://github.com/IBMStreams/streamsx.health/blob/develop/samples/HealthcareJupyterDemo/images/architecture_diagram.jpg?raw=true)"
   ]
  },
  {
   "cell_type": "markdown",
   "metadata": {},
   "source": [
    "## Table of contents\n",
    "\n",
    "This notebook is divided into parts:\n",
    "\n",
    "1. [Part 1: Setup](#setup)\n",
    "1. [Part 2: Create a data feed](#createfeed)\n",
    "1. [Part 3: Build a streaming app](#buildapp)\n",
    "1. [Part 4: Visualization](#visualization)"
   ]
  },
  {
   "cell_type": "markdown",
   "metadata": {},
   "source": [
    "<a id=\"setup\"></a>\n",
    "## Part 1: Setup\n",
    "\n",
    "Complete the following steps to set up your DSX environment.\n",
    "\n",
    "### 1.1 Install the Python modules\n",
    "\n",
    "Run the following cell to install the latest software package."
   ]
  },
  {
   "cell_type": "code",
   "execution_count": null,
   "metadata": {
    "collapsed": false,
    "nbpresent": {
     "id": "721305e1-fa39-4010-9eb4-bf155218370c"
    },
    "scrolled": true
   },
   "outputs": [],
   "source": [
    "!pip install --user --upgrade streamsx\n",
    "!pip install --user --upgrade \"git+https://github.com/IBMStreams/streamsx.health.git#egg=healthdemo&subdirectory=samples/HealthcareJupyterDemo/package\""
   ]
  },
  {
   "cell_type": "markdown",
   "metadata": {},
   "source": [
    "### 1.2 Start a Streaming Analytics service instance\n",
    "\n",
    "If you have a Streaming Analytics instance in IBM Bluemix, make sure that it's up and running.\n",
    "\n",
    "If you don't have a Streaming Analytics instance, create one with these steps:\n",
    "\n",
    "1. Go to the [Bluemix web portal](https://www.ibm.com/cloud-computing/bluemix/) and log in (or sign up for a free Bluemix account).\n",
    "1. Click **Catalog**, browse for the **Streaming Analytics service** and then click on it. \n",
    "1. Follow the instructions on the Streaming Analytics catalog page to set up your service instance, and then click **Create**.\n",
    "The service dashboard opens and your service instance starts automatically."
   ]
  },
  {
   "cell_type": "markdown",
   "metadata": {},
   "source": [
    "### 1.3 Set up access to the service instance\n",
    "\n",
    "You must provide the information that your streaming app needs to access the service instance.\n",
    "\n",
    "Start by running the next cell and then entering the name of your service instance."
   ]
  },
  {
   "cell_type": "code",
   "execution_count": null,
   "metadata": {
    "collapsed": false
   },
   "outputs": [],
   "source": [
    "service_name=input('Streaming Analytics service name:')"
   ]
  },
  {
   "cell_type": "markdown",
   "metadata": {},
   "source": [
    "Now run the following cell, and then enter your list of service credentials.\n",
    "\n",
    "*Tip:* To copy and paste your service credentials, go to your service dashboard, click *Service Credentials* and then *View Credentials*"
   ]
  },
  {
   "cell_type": "code",
   "execution_count": null,
   "metadata": {
    "collapsed": false
   },
   "outputs": [],
   "source": [
    "import json\n",
    "import getpass\n",
    "from streamsx.topology.context import ConfigParams\n",
    "credentials=getpass.getpass('Streaming Analytics credentials:')\n",
    "\n",
    "vs={'streaming-analytics': [{'name': service_name, 'credentials': json.loads(credentials)}]}\n",
    "config={ConfigParams.VCAP_SERVICES: vs, ConfigParams.SERVICE_NAME: service_name}"
   ]
  },
  {
   "cell_type": "markdown",
   "metadata": {},
   "source": [
    "<a id=\"createfeed\"></a>\n",
    "## Part 2: Create a data feed\n",
    "\n",
    "We'll use a pre-compiled IBM Streams application to simulate patient data, and publish the data to a topic. A service is a small IBM Streams application. The PhysionetIngestServiceMulti microservice retrieves patient waveform and vital data from a Physionet database (https://www.physionet.org/) using three different sets of data. The patient data is submitted to the ingest-physionet topic so that the data feed can be consumed by the apps you're going to build later in this notebook.\n",
    "\n",
    "### 2.1 Submit the precompiled Physionet microservice\n",
    "\n",
    "1. Download the PhysionetIngestServiceMulti.sab file to your local machine from https://github.com/IBMStreams/streamsx.health/releases.\n",
    "1. Go to the Streaming Analytics service instance and submit the SAB file by using the Streams application development console.\n",
    "1. When prompted, set the number of patients to 3 or more."
   ]
  },
  {
   "cell_type": "code",
   "execution_count": null,
   "metadata": {
    "collapsed": false
   },
   "outputs": [],
   "source": [
    "print (\"Don't forget to submit patient ingest microservice manually. (Set num.patients >= 3)\")"
   ]
  },
  {
   "cell_type": "markdown",
   "metadata": {
    "nbpresent": {
     "id": "57cc4392-d899-4354-8bbf-45a6322f5efd"
    }
   },
   "source": [
    "<a id=\"buildapp\"></a>\n",
    "## Part 3: Build an streaming app\n",
    "\n",
    "Now you're ready to create the **HealthcareDemo** Python streaming application, and submit it to the Streaming Analytics service instance, where the app will be remotely built and deployed.\n",
    "\n",
    "### 3.1 Healthcare Patient Python Topology Application\n",
    "\n",
    "This cell contains source code for the Python Topology application. This is a Streaming Python application that ingests the patient data from the *ingest-physionet* topic, and performs analysis on the patient data to calculate vital data for all patients and then sends the data to the Streams view server."
   ]
  },
  {
   "cell_type": "code",
   "execution_count": null,
   "metadata": {
    "collapsed": false,
    "scrolled": true
   },
   "outputs": [],
   "source": [
    "from streamsx.topology.topology import Topology, schema\n",
    "from streamsx.topology.context import submit\n",
    "from healthdemo.patientmonitoring_functions import streaming_rpeak\n",
    "from healthdemo.healthcare_functions import GenTimestamp, aggregate\n",
    "from healthdemo.windows import SlidingWindow\n",
    "\n",
    "topo = Topology('HealthcareDemo')\n",
    "\n",
    "## The ingest-physionet provides data at a rate of 125 tuples/sec\n",
    "sample_rate = 125\n",
    "\n",
    "## Subscribe to the topic, gather tuples, aggregate the data to create a 1 tuple/sec stream\n",
    "patients_data = topo.subscribe('ingest-physionet', schema.CommonSchema.Json) \\\n",
    "                    .transform(GenTimestamp(sample_rate)) \\\n",
    "                    .transform(SlidingWindow(length=sample_rate, trigger=sample_rate-1)) \\\n",
    "                    .transform(aggregate)\n",
    "\n",
    "## Calculate RPeak and RR delta\n",
    "patients_data = streaming_rpeak(patients_data, sample_rate, data_label='ECG Lead II')\n",
    "\n",
    "## Create view for patient vital data\n",
    "patients_vital = patients_data.view(name='patients_vital')\n",
    "\n",
    "rc = submit('ANALYTICS_SERVICE', topo, config)\n",
    "print (\"DONE\")"
   ]
  },
  {
   "cell_type": "markdown",
   "metadata": {},
   "source": [
    "<a id=\"visualization\"></a>\n",
    "## Part 4: Visualization\n",
    "\n",
    "### 4.1 Setup graphs for plotting patient vitals\n",
    "\n",
    "This cell initializes all of the graphs that will be used as well as creates the background job that access the view data.\n",
    "\n",
    "The view data is continuously retrieved from the Streams view server in a background job. Each graph object receives a copy of the data. The graph objects extracts and stores the data that is relevant for that particular graph. Each time a call to ```update()``` is made on a graph object, the next data point is retrieved and displayed. Each graph object maintains an internal queue so that each time a call to ```update()``` is made, the next element in the queue is retrieved and removed. "
   ]
  },
  {
   "cell_type": "code",
   "execution_count": null,
   "metadata": {
    "collapsed": false,
    "nbpresent": {
     "id": "b72a8e1e-e623-4d76-8251-76680be593ee"
    }
   },
   "outputs": [],
   "source": [
    "import time\n",
    "from healthdemo.medgraphs import ECGGraph, PoincareGraph, NumericText, ABPNumericText\n",
    "\n",
    "## load BokehJS visualization library (must be loaded in a separate cell)\n",
    "from bokeh.io import output_notebook, push_notebook\n",
    "from bokeh.resources import INLINE\n",
    "output_notebook(resources=INLINE)\n",
    "%autosave 0\n",
    "%reload_ext autoreload\n",
    "%aimport healthdemo.utils\n",
    "%aimport healthdemo.medgraphs\n",
    "%autoreload 1\n",
    "\n",
    "## Initialize graph for a patient\n",
    "patientId = 'patient-1'\n",
    "continue_data_collection = True\n",
    "\n",
    "graph = {\n",
    "    'ecg_leadII_graph': ECGGraph(signal_label='ECG Lead II', title='ECG Lead II', plot_width=600, min_range=-0.5, max_range=2.0),\n",
    "    'leadII_poincare': PoincareGraph(signal_label='Poincare - ECG Lead II', title='Poincare - ECG Lead II'),\n",
    "    'ecg_leadV_graph': ECGGraph(signal_label='ECG Lead V', title='ECG Lead V', plot_width=600),\n",
    "    'resp_graph': ECGGraph(signal_label='Resp', title='Resp', min_range=-1, max_range=3, plot_width=600),\n",
    "    'pleth_graph': ECGGraph(signal_label='Pleth', title='Pleth', min_range=0, max_range=5, plot_width=600),\n",
    "    'hr_numeric': NumericText(signal_label='HR', title='HR', color='#7cc7ff'),\n",
    "    'pulse_numeric': NumericText(signal_label='PULSE', title='PULSE', color='#e71d32'),\n",
    "    'spo2_numeric': NumericText(signal_label='SpO2', title='SpO2', color='#8cd211'),\n",
    "    'abp_numeric': ABPNumericText(abp_sys_label='ABP Systolic', abp_dia_label='ABP Diastolic', title='ABP', color='#fdd600')            \n",
    "}\n",
    "\n",
    "## retrieve data from Streams view in a background job\n",
    "def data_collector(view, g):\n",
    "    queue = view.start_data_fetch()\n",
    "    while continue_data_collection:\n",
    "        tup = queue.get()\n",
    "        if patientId == get_patient_id(tup):\n",
    "            for graphtype in g:\n",
    "                g[graphtype].add(tup)\n",
    "    view.stop_data_fetch()\n",
    "            \n",
    "from IPython.lib import backgroundjobs as bg\n",
    "jobs = bg.BackgroundJobManager()\n",
    "jobs.new(data_collector, patients_vital, graph)"
   ]
  },
  {
   "cell_type": "markdown",
   "metadata": {
    "nbpresent": {
     "id": "a6e444c6-cd12-436d-94a4-410e8fce7fd3"
    }
   },
   "source": [
    "### 4.2 Display the graphs\n",
    "\n",
    "This cell is responsible for laying out and displaying the graphs. There is a loop that continuously calls the ```update()``` method on each of the graphs for 60 seconds. After each graph has been updated, a call to ```push_notebook()``` is made, which causes the notebook to update the graphics."
   ]
  },
  {
   "cell_type": "code",
   "execution_count": null,
   "metadata": {
    "collapsed": false,
    "nbpresent": {
     "id": "a39590c1-697b-49cc-aecb-37c5afe939ed"
    },
    "scrolled": true
   },
   "outputs": [],
   "source": [
    "import time\n",
    "from bokeh.io import show\n",
    "from bokeh.layouts import column, row, widgetbox\n",
    "\n",
    "## display graphs for a patient\n",
    "show(\n",
    "    row(\n",
    "        column(\n",
    "            graph['ecg_leadII_graph'].get_figure(), \n",
    "            graph['ecg_leadV_graph'].get_figure(), \n",
    "            graph['resp_graph'].get_figure(),\n",
    "            graph['pleth_graph'].get_figure()\n",
    "        ), \n",
    "        column(\n",
    "            graph['leadII_poincare'].get_figure(),\n",
    "            widgetbox(graph['hr_numeric'].get_figure()),\n",
    "            widgetbox(graph['pulse_numeric'].get_figure()),\n",
    "            widgetbox(graph['spo2_numeric'].get_figure()),\n",
    "            widgetbox(graph['abp_numeric'].get_figure())\n",
    "        )\n",
    "    ),\n",
    "    \n",
    "    # If using bokeh > 0.12.2, uncomment the following statement\n",
    "    #notebook_handle=True\n",
    ")\n",
    "\n",
    "## Timeout(in seconds) before stopping the graph\n",
    "timeout = 60\n",
    "endtime = time.time() + timeout\n",
    "\n",
    "cnt = 0\n",
    "while time.time() < endtime:\n",
    "    ## update graphs\n",
    "    for graphtype in graph:\n",
    "        graph[graphtype].update()\n",
    "\n",
    "    ## update notebook \n",
    "    cnt += 1\n",
    "    if cnt % 5 == 0:\n",
    "        push_notebook() ## refresh the graphs\n",
    "        cnt = 0\n",
    "    time.sleep(0.008)\n",
    "    \n",
    "# Stop data collection running in background thread\n",
    "continue_data_collection = False"
   ]
  },
  {
   "cell_type": "code",
   "execution_count": null,
   "metadata": {
    "collapsed": true
   },
   "outputs": [],
   "source": []
  }
 ],
 "metadata": {
  "anaconda-cloud": {},
  "kernelspec": {
   "display_name": "Python [default]",
   "language": "python",
   "name": "python3"
  },
  "language_info": {
   "codemirror_mode": {
    "name": "ipython",
    "version": 3
   },
   "file_extension": ".py",
   "mimetype": "text/x-python",
   "name": "python",
   "nbconvert_exporter": "python",
   "pygments_lexer": "ipython3",
   "version": "3.5.2"
  },
  "nbpresent": {
   "slides": {},
   "themes": {
    "default": "577e4657-0ca5-402b-869f-f2a36c2257ab",
    "theme": {
     "577e4657-0ca5-402b-869f-f2a36c2257ab": {
      "backgrounds": {
       "dc7afa04-bf90-40b1-82a5-726e3cff5267": {
        "background-color": "31af15d2-7e15-44c5-ab5e-e04b16a89eff",
        "id": "dc7afa04-bf90-40b1-82a5-726e3cff5267"
       }
      },
      "id": "577e4657-0ca5-402b-869f-f2a36c2257ab",
      "palette": {
       "19cc588f-0593-49c9-9f4b-e4d7cc113b1c": {
        "id": "19cc588f-0593-49c9-9f4b-e4d7cc113b1c",
        "rgb": [
         252,
         252,
         252
        ]
       },
       "31af15d2-7e15-44c5-ab5e-e04b16a89eff": {
        "id": "31af15d2-7e15-44c5-ab5e-e04b16a89eff",
        "rgb": [
         68,
         68,
         68
        ]
       },
       "50f92c45-a630-455b-aec3-788680ec7410": {
        "id": "50f92c45-a630-455b-aec3-788680ec7410",
        "rgb": [
         197,
         226,
         245
        ]
       },
       "c5cc3653-2ee1-402a-aba2-7caae1da4f6c": {
        "id": "c5cc3653-2ee1-402a-aba2-7caae1da4f6c",
        "rgb": [
         43,
         126,
         184
        ]
       },
       "efa7f048-9acb-414c-8b04-a26811511a21": {
        "id": "efa7f048-9acb-414c-8b04-a26811511a21",
        "rgb": [
         25.118061674008803,
         73.60176211453744,
         107.4819383259912
        ]
       }
      },
      "rules": {
       "a": {
        "color": "19cc588f-0593-49c9-9f4b-e4d7cc113b1c"
       },
       "blockquote": {
        "color": "50f92c45-a630-455b-aec3-788680ec7410",
        "font-size": 3
       },
       "code": {
        "font-family": "Anonymous Pro"
       },
       "h1": {
        "color": "19cc588f-0593-49c9-9f4b-e4d7cc113b1c",
        "font-family": "Merriweather",
        "font-size": 8
       },
       "h2": {
        "color": "19cc588f-0593-49c9-9f4b-e4d7cc113b1c",
        "font-family": "Merriweather",
        "font-size": 6
       },
       "h3": {
        "color": "50f92c45-a630-455b-aec3-788680ec7410",
        "font-family": "Lato",
        "font-size": 5.5
       },
       "h4": {
        "color": "c5cc3653-2ee1-402a-aba2-7caae1da4f6c",
        "font-family": "Lato",
        "font-size": 5
       },
       "h5": {
        "font-family": "Lato"
       },
       "h6": {
        "font-family": "Lato"
       },
       "h7": {
        "font-family": "Lato"
       },
       "li": {
        "color": "50f92c45-a630-455b-aec3-788680ec7410",
        "font-size": 3.25
       },
       "pre": {
        "font-family": "Anonymous Pro",
        "font-size": 4
       }
      },
      "text-base": {
       "color": "19cc588f-0593-49c9-9f4b-e4d7cc113b1c",
       "font-family": "Lato",
       "font-size": 4
      }
     }
    }
   }
  }
 },
 "nbformat": 4,
 "nbformat_minor": 0
}
